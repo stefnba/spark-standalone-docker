{
 "cells": [
  {
   "cell_type": "code",
   "execution_count": 42,
   "metadata": {},
   "outputs": [
    {
     "name": "stderr",
     "output_type": "stream",
     "text": [
      "                                                                                \r"
     ]
    },
    {
     "name": "stdout",
     "output_type": "stream",
     "text": [
      "+----+--------------------+-------+--------+--------+------------+------------+\n",
      "|Code|                Name|Country|Exchange|Currency|        Type|        Isin|\n",
      "+----+--------------------+-------+--------+--------+------------+------------+\n",
      "|00XL|WisdomTree Copper...|Germany|   XETRA|     EUR|         ETF|JE00B4PDKD43|\n",
      "|00XN|WisdomTree Gold -...|Germany|   XETRA|     EUR|         ETF|JE00B4RKQV36|\n",
      "|00XP|WisdomTree Natura...|Germany|   XETRA|     EUR|         ETF|JE00B6XF0923|\n",
      "|00XR|WisdomTree Silver...|Germany|   XETRA|     EUR|         ETF|JE00B5SV2703|\n",
      "|00XS|WisdomTree Wheat ...|Germany|   XETRA|     EUR|         ETF|JE00B78NNK09|\n",
      "|00XT|WisdomTree Brent ...|Germany|   XETRA|     EUR|         ETF|JE00B7305Z55|\n",
      "| 04Q|     Nordea Bank Abp|Germany|   XETRA|     EUR|Common Stock|FI4000297767|\n",
      "| 0B2|      Bawag Group AG|Germany|   XETRA|     EUR|Common Stock|AT0000BAWAG2|\n",
      "|0GZA|RICI Enhanced Nat...|Germany|   XETRA|     EUR|         ETC|DE000PZ9REG5|\n",
      "|0GZB|RICI Enhanced Cop...|Germany|   XETRA|     EUR|         ETC|DE000PZ9REC4|\n",
      "|0GZC|RICI Enhanced Nic...|Germany|   XETRA|     EUR|         ETC|DE000PZ9REN1|\n",
      "|0GZD|RICI Enhanced Ind...|Germany|   XETRA|     EUR|         ETC|DE000PZ9REM3|\n",
      "|0GZE|RICI Enhanced Gas...|Germany|   XETRA|     EUR|       INDEX|DE000PZ9RED2|\n",
      "|0GZF|RICI Enhanced Gas...|Germany|   XETRA|     EUR|       INDEX|DE000PZ9RE14|\n",
      "|0GZG|RICI Enhanced Hea...|Germany|   XETRA|     EUR|       INDEX|DE000PZ9REH3|\n",
      "|0GZH|RICI Enhanced Alu...|Germany|   XETRA|     EUR|       INDEX|DE000PZ9REA8|\n",
      "|0GZI|RICI Enhanced Zin...|Germany|   XETRA|     EUR|       INDEX|DE000PZ9REZ5|\n",
      "|0GZJ|RICI Enhanced Tin...|Germany|   XETRA|     EUR|         ETC|DE000PZ9RET8|\n",
      "|0GZK|RICI Enhanced Lea...|Germany|   XETRA|     EUR|         ETC|DE000PZ9REL5|\n",
      "|0GZL|RICI Enhanced Met...|Germany|   XETRA|     EUR|         ETC|DE000PZ9RME3|\n",
      "+----+--------------------+-------+--------+--------+------------+------------+\n",
      "only showing top 20 rows\n",
      "\n"
     ]
    },
    {
     "name": "stderr",
     "output_type": "stream",
     "text": [
      "                                                                                \r"
     ]
    }
   ],
   "source": [
    "import os\n",
    "\n",
    "from pyspark.sql import SparkSession\n",
    "\n",
    "AWS_REGION = os.getenv(\"AWS_REGION\") or \"\"\n",
    "AWS_ACCESS_KEY_ID = os.getenv(\"AWS_ACCESS_KEY_ID\") or \"\"\n",
    "AWS_SECRET_ACCESS_KEY = os.getenv(\"AWS_SECRET_ACCESS_KEY\") or \"\"\n",
    "\n",
    "spark = (\n",
    "    SparkSession.builder.master(\"spark://spark-master:7077\")\n",
    "    .appName(\"Testing S3\")\n",
    "    .config(\n",
    "        \"spark.jars.packages\",\n",
    "        \"org.apache.hadoop:hadoop-aws:3.3.6,com.amazonaws:aws-java-sdk-s3:1.12.621\",\n",
    "    )\n",
    "    .getOrCreate()\n",
    ")\n",
    "\n",
    "\n",
    "spark.conf.set(\n",
    "    \"spark.hadoop.fs.s3a.aws.credentials.provider\",\n",
    "    \"org.apache.hadoop.fs.s3a.SimpleAWSCredentialsProvider\",\n",
    ")\n",
    "spark.conf.set(\"spark.hadoop.fs.s3a.awsAccessKeyId\", AWS_ACCESS_KEY_ID)\n",
    "spark.conf.set(\"spark.hadoop.fs.s3a.awsSecretAccessKey\", AWS_SECRET_ACCESS_KEY)"
   ]
  },
  {
   "cell_type": "code",
   "execution_count": null,
   "metadata": {},
   "outputs": [],
   "source": [
    "spark.read.parquet(\"s3a://cloud-sdk/data/parquet/XETRA\").show()"
   ]
  },
  {
   "cell_type": "code",
   "execution_count": 41,
   "metadata": {},
   "outputs": [],
   "source": [
    "spark.stop()"
   ]
  }
 ],
 "metadata": {
  "kernelspec": {
   "display_name": "Python 3 (ipykernel)",
   "language": "python",
   "name": "python3"
  },
  "language_info": {
   "codemirror_mode": {
    "name": "ipython",
    "version": 3
   },
   "file_extension": ".py",
   "mimetype": "text/x-python",
   "name": "python",
   "nbconvert_exporter": "python",
   "pygments_lexer": "ipython3",
   "version": "3.11.7"
  }
 },
 "nbformat": 4,
 "nbformat_minor": 4
}
