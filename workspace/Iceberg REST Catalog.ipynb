{
 "cells": [
  {
   "cell_type": "markdown",
   "id": "591b8554-719c-4f5e-ae2a-b96007bd6044",
   "metadata": {},
   "source": [
    "# Iceberg REST Catalog"
   ]
  },
  {
   "cell_type": "code",
   "execution_count": 4,
   "id": "e10953b8-f6af-4a66-aea9-513b6572cef6",
   "metadata": {},
   "outputs": [
    {
     "name": "stderr",
     "output_type": "stream",
     "text": [
      "Setting default log level to \"WARN\".\n",
      "To adjust logging level use sc.setLogLevel(newLevel). For SparkR, use setLogLevel(newLevel).\n",
      "23/12/22 15:00:10 WARN NativeCodeLoader: Unable to load native-hadoop library for your platform... using builtin-java classes where applicable\n"
     ]
    }
   ],
   "source": [
    "from pyspark.sql import SparkSession\n",
    "\n",
    "spark = (\n",
    "    SparkSession.builder.master(\"spark://spark-master:7077\")  # type: ignore\n",
    "    .appName(\"Testing Iceberg\")\n",
    "    # .config(\n",
    "    #     \"spark.jars.packages\",\n",
    "    #     \"org.apache.iceberg:iceberg-spark-runtime-3.5_2.12:1.4.2,org.apache.iceberg:iceberg-aws-bundle:1.4.2\",\n",
    "    # )\n",
    "    .config(\"spark.sql.extensions\", \"org.apache.iceberg.spark.extensions.IcebergSparkSessionExtensions\")\n",
    "    .getOrCreate()\n",
    ")"
   ]
  },
  {
   "cell_type": "markdown",
   "id": "6011fa62",
   "metadata": {},
   "source": [
    "## Spark Config\n",
    "\n",
    "```bash\n",
    "spark-sql --packages org.apache.iceberg:iceberg-spark-runtime-3.5_2.12:1.4.2,org.apache.iceberg:iceberg-aws-bundle:1.4.2 \\\n",
    " --conf spark.sql.extensions=org.apache.iceberg.spark.extensions.IcebergSparkSessionExtensions \\\n",
    " --conf spark.sql.catalog.spark_catalog=org.apache.iceberg.spark.SparkSessionCatalog \\\n",
    " --conf spark.sql.catalog.spark_catalog.catalog-impl=org.apache.iceberg.rest.RESTCatalog \\\n",
    " --conf spark.sql.catalog.spark_catalog.warehouse=/opt/workspace/warehouse \\\n",
    " --conf spark.sql.catalog.spark_catalog.uri=http://rest:8181 \\\n",
    " --conf spark.sql.catalog.spark_catalog.io-impl=org.apache.iceberg.aws.s3.S3FileIO \\\n",
    " --conf spark.sql.catalog.spark_catalog.s3.endpoint=http://minio:9000\n",
    "```\n"
   ]
  },
  {
   "cell_type": "code",
   "execution_count": 5,
   "id": "4da90d8b-ecfe-45a0-9bb1-29234c95428e",
   "metadata": {},
   "outputs": [],
   "source": [
    "spark.conf.set(\"spark.sql.catalog.demo\", \"org.apache.iceberg.spark.SparkCatalog\")\n",
    "spark.conf.set(\"spark.sql.catalog.demo.catalog-impl\", \"org.apache.iceberg.rest.RESTCatalog\")\n",
    "spark.conf.set(\"spark.sql.catalog.demo.uri\", \"http://rest:8181\")\n",
    "spark.conf.set(\"spark.sql.catalog.demo.io-impl\", \"org.apache.iceberg.aws.s3.S3FileIO\")\n",
    "spark.conf.set(\"spark.sql.catalog.demo.s3.endpoint\", \"http://minio:9000\")\n",
    "spark.conf.set(\"spark.sql.defaultCatalog\", \"demo\")"
   ]
  },
  {
   "cell_type": "code",
   "execution_count": 6,
   "id": "c58f6c20-c110-484f-9886-bd59a353603a",
   "metadata": {},
   "outputs": [
    {
     "name": "stderr",
     "output_type": "stream",
     "text": [
      "23/12/22 15:00:16 WARN SparkSession: Using an existing Spark session; only runtime SQL configurations will take effect.\n"
     ]
    },
    {
     "data": {
      "text/html": [
       "<table>\n",
       "    <thead>\n",
       "        <tr>\n",
       "        </tr>\n",
       "    </thead>\n",
       "    <tbody>\n",
       "    </tbody>\n",
       "</table>"
      ],
      "text/plain": [
       "++\n",
       "||\n",
       "++\n",
       "++"
      ]
     },
     "execution_count": 6,
     "metadata": {},
     "output_type": "execute_result"
    }
   ],
   "source": [
    "%%sql\n",
    "CREATE NAMESPACE new_namespace;"
   ]
  },
  {
   "cell_type": "code",
   "execution_count": 7,
   "id": "16a2ffc3-d118-4c7e-9009-43336cfa06ba",
   "metadata": {},
   "outputs": [
    {
     "data": {
      "text/html": [
       "<table>\n",
       "    <thead>\n",
       "        <tr>\n",
       "        </tr>\n",
       "    </thead>\n",
       "    <tbody>\n",
       "    </tbody>\n",
       "</table>"
      ],
      "text/plain": [
       "++\n",
       "||\n",
       "++\n",
       "++"
      ]
     },
     "execution_count": 7,
     "metadata": {},
     "output_type": "execute_result"
    }
   ],
   "source": [
    "%%sql\n",
    "CREATE TABLE IF NOT EXISTS demo.new_namespace.quote (Date Date, Close Float) USING iceberg PARTITIONED BY (YEAR(Date));"
   ]
  },
  {
   "cell_type": "code",
   "execution_count": 16,
   "id": "8b6b84ca-a248-4eee-9119-9133633454f6",
   "metadata": {},
   "outputs": [
    {
     "name": "stderr",
     "output_type": "stream",
     "text": [
      "                                                                                \r"
     ]
    }
   ],
   "source": [
    "quote = spark.read.csv(\"data/GDAXI.INDX.csv\", header=True, inferSchema=True).select([\"Date\", \"Close\"])\n",
    "quote.writeTo(\"demo.new_namespace.quote\").append()"
   ]
  },
  {
   "cell_type": "code",
   "execution_count": null,
   "id": "271b71dd-5945-4541-b852-c61dc0073da6",
   "metadata": {},
   "outputs": [],
   "source": [
    "spark.stop()"
   ]
  },
  {
   "cell_type": "markdown",
   "id": "d6dc60c1-5b26-4a23-a18e-23d72635bbf4",
   "metadata": {},
   "source": [
    "# PyIceberg"
   ]
  },
  {
   "cell_type": "code",
   "execution_count": 21,
   "id": "a845a94a-4fbe-473d-b44c-d318e9f20d36",
   "metadata": {},
   "outputs": [],
   "source": [
    "import os\n",
    "\n",
    "from pyiceberg.catalog import load_catalog\n",
    "\n",
    "AWS_ACCESS_KEY_ID = os.getenv(\"AWS_ACCESS_KEY_ID\") or \"\"\n",
    "AWS_SECRET_ACCESS_KEY = os.getenv(\"AWS_SECRET_ACCESS_KEY\") or \"\"\n",
    "\n",
    "catalog = load_catalog(\n",
    "    \"demo\",\n",
    "    **{\n",
    "        \"type\": \"rest\",\n",
    "        \"uri\": \"http://rest:8181\",\n",
    "        # \"py-io-impl\": \"pyiceberg.io.fsspec.FsspecFileIO\",\n",
    "        \"s3.endpoint\": \"http://minio:9000\",\n",
    "        \"s3.access-key-id\": AWS_ACCESS_KEY_ID,\n",
    "        \"s3.secret-access-key\": AWS_SECRET_ACCESS_KEY,\n",
    "    },\n",
    ")"
   ]
  },
  {
   "cell_type": "code",
   "execution_count": 13,
   "id": "6437e21b-cd3a-4b91-be35-0dcd68c0a615",
   "metadata": {},
   "outputs": [
    {
     "data": {
      "text/plain": [
       "[('new_namespace',)]"
      ]
     },
     "execution_count": 13,
     "metadata": {},
     "output_type": "execute_result"
    }
   ],
   "source": [
    "catalog.list_namespaces()"
   ]
  },
  {
   "cell_type": "code",
   "execution_count": 14,
   "id": "6214b6b7-bf84-4d57-a429-a8ae4b3daf81",
   "metadata": {},
   "outputs": [
    {
     "data": {
      "text/plain": [
       "[('new_namespace', 'quote')]"
      ]
     },
     "execution_count": 14,
     "metadata": {},
     "output_type": "execute_result"
    }
   ],
   "source": [
    "catalog.list_tables(\"new_namespace\")"
   ]
  },
  {
   "cell_type": "code",
   "execution_count": 22,
   "id": "cc15e7ce-4375-41f9-b227-7f24956ca182",
   "metadata": {},
   "outputs": [
    {
     "data": {
      "text/plain": [
       "pyarrow.Table\n",
       "Date: date32[day]\n",
       "Close: float\n",
       "----\n",
       "Date: [[2010-01-04,2010-01-05,2010-01-06,2010-01-07,2010-01-08,...,2010-12-23,2010-12-27,2010-12-28,2010-12-29,2010-12-30],[2011-01-03,2011-01-04,2011-01-05,2011-01-06,2011-01-07,...,2011-12-23,2011-12-27,2011-12-28,2011-12-29,2011-12-30],...,[2004-01-02,2004-01-05,2004-01-06,2004-01-07,2004-01-08,...,2004-12-23,2004-12-27,2004-12-28,2004-12-29,2004-12-30],[2005-01-03,2005-01-04,2005-01-05,2005-01-06,2005-01-07,...,2005-12-23,2005-12-27,2005-12-28,2005-12-29,2005-12-30]]\n",
       "Close: [[6048.3,6031.86,6034.33,6019.36,6037.61,...,7057.69,6970.73,6972.1,6995.47,6914.19],[6989.74,6975.35,6939.82,6981.39,6947.84,...,5878.93,5889.76,5771.27,5848.78,5898.35],...,[4018.5,4035.9,4035.44,4004.4,4045.43,...,4251.62,4235.36,4261.79,4247.75,4256.08],[4291.53,4290.5,4258.24,4300.94,4316.4,...,5419.05,5444.84,5447.15,5458.58,5408.26]]"
      ]
     },
     "execution_count": 22,
     "metadata": {},
     "output_type": "execute_result"
    }
   ],
   "source": [
    "catalog.load_table(\"new_namespace.quote\").scan().to_arrow()"
   ]
  },
  {
   "cell_type": "code",
   "execution_count": 28,
   "id": "bde72c5e-68a6-4e7c-8776-47bb56ed71aa",
   "metadata": {},
   "outputs": [
    {
     "data": {
      "text/html": [
       "<div><style>\n",
       ".dataframe > thead > tr,\n",
       ".dataframe > tbody > tr {\n",
       "  text-align: right;\n",
       "  white-space: pre-wrap;\n",
       "}\n",
       "</style>\n",
       "<small>shape: (11_046, 2)</small><table border=\"1\" class=\"dataframe\"><thead><tr><th>Date</th><th>Close</th></tr><tr><td>date</td><td>f32</td></tr></thead><tbody><tr><td>2010-01-04</td><td>6048.299805</td></tr><tr><td>2010-01-05</td><td>6031.859863</td></tr><tr><td>2010-01-06</td><td>6034.330078</td></tr><tr><td>2010-01-07</td><td>6019.359863</td></tr><tr><td>2010-01-08</td><td>6037.609863</td></tr><tr><td>2010-01-11</td><td>6040.5</td></tr><tr><td>2010-01-12</td><td>5943.0</td></tr><tr><td>2010-01-13</td><td>5963.140137</td></tr><tr><td>2010-01-14</td><td>5988.879883</td></tr><tr><td>2010-01-15</td><td>5875.970215</td></tr><tr><td>2010-01-18</td><td>5918.549805</td></tr><tr><td>2010-01-19</td><td>5976.47998</td></tr><tr><td>&hellip;</td><td>&hellip;</td></tr><tr><td>2005-12-14</td><td>5286.759766</td></tr><tr><td>2005-12-15</td><td>5295.819824</td></tr><tr><td>2005-12-16</td><td>5353.660156</td></tr><tr><td>2005-12-19</td><td>5350.180176</td></tr><tr><td>2005-12-20</td><td>5356.600098</td></tr><tr><td>2005-12-21</td><td>5397.22998</td></tr><tr><td>2005-12-22</td><td>5398.279785</td></tr><tr><td>2005-12-23</td><td>5419.049805</td></tr><tr><td>2005-12-27</td><td>5444.839844</td></tr><tr><td>2005-12-28</td><td>5447.149902</td></tr><tr><td>2005-12-29</td><td>5458.580078</td></tr><tr><td>2005-12-30</td><td>5408.259766</td></tr></tbody></table></div>"
      ],
      "text/plain": [
       "shape: (11_046, 2)\n",
       "┌────────────┬─────────────┐\n",
       "│ Date       ┆ Close       │\n",
       "│ ---        ┆ ---         │\n",
       "│ date       ┆ f32         │\n",
       "╞════════════╪═════════════╡\n",
       "│ 2010-01-04 ┆ 6048.299805 │\n",
       "│ 2010-01-05 ┆ 6031.859863 │\n",
       "│ 2010-01-06 ┆ 6034.330078 │\n",
       "│ 2010-01-07 ┆ 6019.359863 │\n",
       "│ …          ┆ …           │\n",
       "│ 2005-12-27 ┆ 5444.839844 │\n",
       "│ 2005-12-28 ┆ 5447.149902 │\n",
       "│ 2005-12-29 ┆ 5458.580078 │\n",
       "│ 2005-12-30 ┆ 5408.259766 │\n",
       "└────────────┴─────────────┘"
      ]
     },
     "execution_count": 28,
     "metadata": {},
     "output_type": "execute_result"
    }
   ],
   "source": [
    "import duckdb\n",
    "conn = catalog.load_table(\"new_namespace.quote\").scan().to_duckdb(table_name=\"quote\")\n",
    "\n",
    "conn.sql(\"SELECT * FROM quote\").pl()"
   ]
  }
 ],
 "metadata": {
  "kernelspec": {
   "display_name": "Python 3 (ipykernel)",
   "language": "python",
   "name": "python3"
  },
  "language_info": {
   "codemirror_mode": {
    "name": "ipython",
    "version": 3
   },
   "file_extension": ".py",
   "mimetype": "text/x-python",
   "name": "python",
   "nbconvert_exporter": "python",
   "pygments_lexer": "ipython3",
   "version": "3.11.7"
  }
 },
 "nbformat": 4,
 "nbformat_minor": 5
}
