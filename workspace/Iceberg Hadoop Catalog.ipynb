{
 "cells": [
  {
   "cell_type": "markdown",
   "metadata": {},
   "source": [
    "# Iceberg with Hadoop Catalog\n"
   ]
  },
  {
   "cell_type": "code",
   "execution_count": null,
   "metadata": {},
   "outputs": [],
   "source": [
    "from pyspark.sql import SparkSession\n",
    "\n",
    "spark = (\n",
    "    SparkSession.builder.master(\"spark://spark-master:7077\")  # type: ignore\n",
    "    .appName(\"Testing Iceberg\")\n",
    "    .config(\n",
    "        \"spark.jars.packages\",\n",
    "        \"org.apache.iceberg:iceberg-spark-runtime-3.5_2.12:1.4.2\",\n",
    "    )\n",
    "    .config(\"spark.sql.extensions\", \"org.apache.iceberg.spark.extensions.IcebergSparkSessionExtensions\")\n",
    "    .config(\"spark.sql.catalogImplementation\", \"in-memory\")\n",
    "    .getOrCreate()\n",
    ")\n",
    "\n",
    "spark.conf.set(\"spark.sql.catalog.data\", \"org.apache.iceberg.spark.SparkCatalog\")\n",
    "spark.conf.set(\"spark.sql.catalog.data.type\", \"hadoop\")\n",
    "spark.conf.set(\"spark.sql.catalog.data.warehouse\", \"/opt/workspace/warehouse\")\n",
    "spark.conf.set(\"spark.sql.defaultCatalog\", \"data\")\n",
    "\n",
    "\n",
    "spark.sql(\n",
    "    \"\"\"\n",
    "DROP TABLE IF EXISTS data.quote;\n",
    "\"\"\"\n",
    ")\n",
    "\n",
    "spark.sql(\n",
    "    \"\"\"\n",
    "CREATE TABLE IF NOT EXISTS data.quote (Date Date, Close Float) USING iceberg PARTITIONED BY (YEAR(Date));\n",
    "\"\"\"\n",
    ")"
   ]
  }
 ],
 "metadata": {
  "kernelspec": {
   "display_name": "Python 3 (ipykernel)",
   "language": "python",
   "name": "python3"
  },
  "language_info": {
   "codemirror_mode": {
    "name": "ipython",
    "version": 3
   },
   "file_extension": ".py",
   "mimetype": "text/x-python",
   "name": "python",
   "nbconvert_exporter": "python",
   "pygments_lexer": "ipython3",
   "version": "3.11.6"
  }
 },
 "nbformat": 4,
 "nbformat_minor": 4
}
