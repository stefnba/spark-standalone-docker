{
 "cells": [
  {
   "cell_type": "markdown",
   "id": "fddf100b-89c2-4976-ab84-29ee3ceb71ac",
   "metadata": {},
   "source": [
    "# Iceberg with SQL Catalog\n",
    "\n",
    "Example of Iceberg with SQL Glue Catalog with AWS S3 as Object Storage.\n",
    "\n",
    "Database needs to exists on AWS Glue and user needs to have `AWSGlueConsoleFullAccess` permission.\n",
    "\n",
    "More info [https://iceberg.apache.org/docs/latest/aws/#glue-catalog]"
   ]
  },
  {
   "cell_type": "code",
   "execution_count": 1,
   "id": "a91fbd38-9f10-4cbe-bf8c-45b021de588a",
   "metadata": {},
   "outputs": [
    {
     "name": "stderr",
     "output_type": "stream",
     "text": [
      "Setting default log level to \"WARN\".\n",
      "To adjust logging level use sc.setLogLevel(newLevel). For SparkR, use setLogLevel(newLevel).\n",
      "23/12/22 13:52:02 WARN NativeCodeLoader: Unable to load native-hadoop library for your platform... using builtin-java classes where applicable\n"
     ]
    },
    {
     "name": "stdout",
     "output_type": "stream",
     "text": [
      "The PySpark 3.5.0 version is running...\n"
     ]
    }
   ],
   "source": [
    "import os\n",
    "\n",
    "from pyspark.sql import SparkSession\n",
    "\n",
    "spark = (\n",
    "    SparkSession.builder.master(\"spark://spark-master:7077\")  # type: ignore\n",
    "    .appName(\"Testing Iceberg with SQL Catalog\")\n",
    "    .config(\"spark.sql.extensions\", \"org.apache.iceberg.spark.extensions.IcebergSparkSessionExtensions\")\n",
    "    .getOrCreate()\n",
    ")\n",
    "\n",
    "print(f'The PySpark {spark.version} version is running...')"
   ]
  },
  {
   "cell_type": "markdown",
   "id": "c3dcfffd-707a-4797-a0de-af621f1e63b2",
   "metadata": {},
   "source": [
    "### Test Spark is running"
   ]
  },
  {
   "cell_type": "code",
   "execution_count": 2,
   "id": "cad235f9-b039-4549-ae84-9d3859cf1100",
   "metadata": {},
   "outputs": [
    {
     "name": "stderr",
     "output_type": "stream",
     "text": [
      "                                                                                \r"
     ]
    },
    {
     "name": "stdout",
     "output_type": "stream",
     "text": [
      "+-----+---+\n",
      "| Name|Age|\n",
      "+-----+---+\n",
      "| John| 28|\n",
      "|Alice| 35|\n",
      "|  Bob| 42|\n",
      "+-----+---+\n",
      "\n"
     ]
    }
   ],
   "source": [
    "data = [(\"John\", 28), (\"Alice\", 35), (\"Bob\", 42)]\n",
    "df = spark.createDataFrame(data, [\"Name\", \"Age\"])\n",
    "df.createOrReplaceTempView(\"tmp_people\")\n",
    "df.show()"
   ]
  },
  {
   "cell_type": "markdown",
   "id": "3d79f667-64ca-470e-a798-01aece532a7a",
   "metadata": {},
   "source": [
    "## Config Iceberg catalog\n",
    "\n",
    "```bash\n",
    "spark-sql \\\n",
    "    --packages org.apache.iceberg:iceberg-spark-runtime-3.4_2.12:1.4.2,org.apache.iceberg:iceberg-aws-bundle:1.4.2 \\\n",
    "    --conf spark.sql.catalog.glue=org.apache.iceberg.spark.SparkCatalog \\\n",
    "    --conf spark.sql.catalog.glue.catalog-impl=org.apache.iceberg.aws.glue.GlueCatalog \\\n",
    "    --conf spark.sql.catalog.glue.warehouse=s3a://cloud-sdk/warehouse \\\n",
    "    --conf spark.sql.catalog.glue.io-impl=org.apache.iceberg.aws.s3.S3FileIO \\\n",
    "    --conf spark.hadoop.fs.s3a.access.key=${AWS_ACCESS_KEY_ID} \\\n",
    "    --conf spark.hadoop.fs.s3a.secret.key=${AWS_SECRET_ACCESS_KEY}\n",
    "```"
   ]
  },
  {
   "cell_type": "code",
   "execution_count": 10,
   "id": "6b6a1c47-f965-4fa8-9d0d-1718ea2eb956",
   "metadata": {},
   "outputs": [],
   "source": [
    "CATALOG_NAME = \"demo\"\n",
    "DEFAULT_NAMESPACE = \"default\"\n",
    "\n",
    "AWS_ACCESS_KEY_ID = os.getenv(\"AWS_ACCESS_KEY_ID\") or \"\"\n",
    "AWS_SECRET_ACCESS_KEY = os.getenv(\"AWS_SECRET_ACCESS_KEY\") or \"\"\n",
    "\n",
    "spark.conf.set(f\"spark.sql.catalog.{CATALOG_NAME}\", \"org.apache.iceberg.spark.SparkCatalog\")\n",
    "spark.conf.set(f\"spark.sql.catalog.{CATALOG_NAME}.catalog-impl\", \"org.apache.iceberg.aws.glue.GlueCatalog\")\n",
    "spark.conf.set(f\"spark.sql.catalog.{CATALOG_NAME}.warehouse\", \"s3a://cloud-sdk/warehouse/\")\n",
    "spark.conf.set(f\"spark.sql.catalog.{CATALOG_NAME}.io-impl\", \"org.apache.iceberg.aws.s3.S3FileIO\")\n",
    "spark.conf.set(f\"spark.hadoop.fs.s3a.access.key\", AWS_ACCESS_KEY_ID)\n",
    "spark.conf.set(f\"spark.hadoop.fs.s3a.secret.key\", AWS_SECRET_ACCESS_KEY)"
   ]
  },
  {
   "cell_type": "markdown",
   "id": "768da27c-9c96-4e22-b8dc-a83b26b295a7",
   "metadata": {},
   "source": [
    "### Change Catalog\n",
    "\n",
    "Activate the catalog and optionally the namespace.\n"
   ]
  },
  {
   "cell_type": "code",
   "execution_count": 24,
   "id": "aa5c1c66-f54d-404e-809c-52e7230f2d45",
   "metadata": {},
   "outputs": [
    {
     "data": {
      "text/html": [
       "<table>\n",
       "    <thead>\n",
       "        <tr>\n",
       "        </tr>\n",
       "    </thead>\n",
       "    <tbody>\n",
       "    </tbody>\n",
       "</table>"
      ],
      "text/plain": [
       "++\n",
       "||\n",
       "++\n",
       "++"
      ]
     },
     "execution_count": 24,
     "metadata": {},
     "output_type": "execute_result"
    }
   ],
   "source": [
    "%%sql\n",
    "USE demo;"
   ]
  },
  {
   "cell_type": "markdown",
   "id": "60585de9-e856-4c58-9336-8eb52390c028",
   "metadata": {},
   "source": [
    "### Create new Namespace\n",
    "\n",
    "A Namespace in Glue is a Database."
   ]
  },
  {
   "cell_type": "code",
   "execution_count": 25,
   "id": "176322bf-64de-4bc3-998a-534f0ba98012",
   "metadata": {},
   "outputs": [
    {
     "data": {
      "text/html": [
       "<table>\n",
       "    <thead>\n",
       "        <tr>\n",
       "        </tr>\n",
       "    </thead>\n",
       "    <tbody>\n",
       "    </tbody>\n",
       "</table>"
      ],
      "text/plain": [
       "++\n",
       "||\n",
       "++\n",
       "++"
      ]
     },
     "execution_count": 25,
     "metadata": {},
     "output_type": "execute_result"
    }
   ],
   "source": [
    "%%sql\n",
    "CREATE NAMESPACE new_namespace;"
   ]
  },
  {
   "cell_type": "markdown",
   "id": "a472cb21-ece7-4762-83df-b6989c4d0ce7",
   "metadata": {},
   "source": [
    "### Activate namespace"
   ]
  },
  {
   "cell_type": "code",
   "execution_count": 26,
   "id": "396201d9-1168-46cc-a015-74cf53b43022",
   "metadata": {},
   "outputs": [
    {
     "data": {
      "text/html": [
       "<table>\n",
       "    <thead>\n",
       "        <tr>\n",
       "        </tr>\n",
       "    </thead>\n",
       "    <tbody>\n",
       "    </tbody>\n",
       "</table>"
      ],
      "text/plain": [
       "++\n",
       "||\n",
       "++\n",
       "++"
      ]
     },
     "execution_count": 26,
     "metadata": {},
     "output_type": "execute_result"
    }
   ],
   "source": [
    "%%sql\n",
    "USE demo.new_namespace;"
   ]
  },
  {
   "cell_type": "markdown",
   "id": "63f02bb9",
   "metadata": {},
   "source": [
    "### List existing catalogs, namespaces, tables"
   ]
  },
  {
   "cell_type": "code",
   "execution_count": 27,
   "id": "7e384ee6-e295-411b-9000-15fc1cc18180",
   "metadata": {},
   "outputs": [
    {
     "data": {
      "text/html": [
       "<table>\n",
       "    <thead>\n",
       "        <tr>\n",
       "            <th>catalog</th>\n",
       "        </tr>\n",
       "    </thead>\n",
       "    <tbody>\n",
       "        <tr>\n",
       "            <td>demo</td>\n",
       "        </tr>\n",
       "        <tr>\n",
       "            <td>spark_catalog</td>\n",
       "        </tr>\n",
       "    </tbody>\n",
       "</table>"
      ],
      "text/plain": [
       "+---------------+\n",
       "|       catalog |\n",
       "+---------------+\n",
       "|          demo |\n",
       "| spark_catalog |\n",
       "+---------------+"
      ]
     },
     "execution_count": 27,
     "metadata": {},
     "output_type": "execute_result"
    }
   ],
   "source": [
    "%%sql\n",
    "SHOW catalogs;"
   ]
  },
  {
   "cell_type": "code",
   "execution_count": 28,
   "id": "8347596d-54a9-44bd-8966-b9f5d0a986e2",
   "metadata": {},
   "outputs": [
    {
     "data": {
      "text/html": [
       "<table>\n",
       "    <thead>\n",
       "        <tr>\n",
       "            <th>namespace</th>\n",
       "        </tr>\n",
       "    </thead>\n",
       "    <tbody>\n",
       "        <tr>\n",
       "            <td>demo</td>\n",
       "        </tr>\n",
       "        <tr>\n",
       "            <td>iceberg</td>\n",
       "        </tr>\n",
       "        <tr>\n",
       "            <td>new_namespace</td>\n",
       "        </tr>\n",
       "        <tr>\n",
       "            <td>test</td>\n",
       "        </tr>\n",
       "        <tr>\n",
       "            <td>`unique-stocks`</td>\n",
       "        </tr>\n",
       "    </tbody>\n",
       "</table>"
      ],
      "text/plain": [
       "+-----------------+\n",
       "|       namespace |\n",
       "+-----------------+\n",
       "|            demo |\n",
       "|         iceberg |\n",
       "|   new_namespace |\n",
       "|            test |\n",
       "| `unique-stocks` |\n",
       "+-----------------+"
      ]
     },
     "execution_count": 28,
     "metadata": {},
     "output_type": "execute_result"
    }
   ],
   "source": [
    "%%sql\n",
    "SHOW namespaces;"
   ]
  },
  {
   "cell_type": "markdown",
   "id": "3759ed17-6584-4e5e-a2f2-11bde4a33609",
   "metadata": {},
   "source": [
    "### Create table"
   ]
  },
  {
   "cell_type": "code",
   "execution_count": 29,
   "id": "58eb05b6",
   "metadata": {},
   "outputs": [
    {
     "data": {
      "text/html": [
       "<table>\n",
       "    <thead>\n",
       "        <tr>\n",
       "        </tr>\n",
       "    </thead>\n",
       "    <tbody>\n",
       "    </tbody>\n",
       "</table>"
      ],
      "text/plain": [
       "++\n",
       "||\n",
       "++\n",
       "++"
      ]
     },
     "execution_count": 29,
     "metadata": {},
     "output_type": "execute_result"
    }
   ],
   "source": [
    "%%sql\n",
    "CREATE TABLE people (\n",
    "  name STRING,\n",
    "  age INT\n",
    ") USING iceberg;"
   ]
  },
  {
   "cell_type": "markdown",
   "id": "f7934cda-e3a9-4373-8a21-4f9d9c913692",
   "metadata": {},
   "source": [
    "Create a table in a different Namespace than the one activated.\n",
    "\n",
    "Glue needs to have the `catalog_name`.`database_name`.`table_name`."
   ]
  },
  {
   "cell_type": "code",
   "execution_count": 33,
   "id": "5e6f9702-1a2e-4680-8494-188265a443a3",
   "metadata": {},
   "outputs": [
    {
     "data": {
      "text/html": [
       "<table>\n",
       "    <thead>\n",
       "        <tr>\n",
       "        </tr>\n",
       "    </thead>\n",
       "    <tbody>\n",
       "    </tbody>\n",
       "</table>"
      ],
      "text/plain": [
       "++\n",
       "||\n",
       "++\n",
       "++"
      ]
     },
     "execution_count": 33,
     "metadata": {},
     "output_type": "execute_result"
    }
   ],
   "source": [
    "%%sql\n",
    "CREATE TABLE IF NOT EXISTS demo.demo.quote (date Date, Close Float) USING iceberg PARTITIONED BY (YEAR(date));"
   ]
  },
  {
   "cell_type": "markdown",
   "id": "55ad8d88-5def-4740-8e93-c09376214e5e",
   "metadata": {},
   "source": [
    "### Show tables"
   ]
  },
  {
   "cell_type": "code",
   "execution_count": 34,
   "id": "f296309b-dc32-48fb-8d53-aa320ed3ede0",
   "metadata": {},
   "outputs": [
    {
     "data": {
      "text/html": [
       "<table>\n",
       "    <thead>\n",
       "        <tr>\n",
       "            <th>namespace</th>\n",
       "            <th>tableName</th>\n",
       "            <th>isTemporary</th>\n",
       "        </tr>\n",
       "    </thead>\n",
       "    <tbody>\n",
       "        <tr>\n",
       "            <td>new_namespace</td>\n",
       "            <td>people</td>\n",
       "            <td>False</td>\n",
       "        </tr>\n",
       "    </tbody>\n",
       "</table>"
      ],
      "text/plain": [
       "+---------------+-----------+-------------+\n",
       "|     namespace | tableName | isTemporary |\n",
       "+---------------+-----------+-------------+\n",
       "| new_namespace |    people |       False |\n",
       "+---------------+-----------+-------------+"
      ]
     },
     "execution_count": 34,
     "metadata": {},
     "output_type": "execute_result"
    }
   ],
   "source": [
    "%%sql\n",
    "SHOW tables;"
   ]
  },
  {
   "cell_type": "markdown",
   "id": "47d2a6a7-aede-4818-be5f-15aa610fd9d5",
   "metadata": {},
   "source": [
    "## Insert"
   ]
  },
  {
   "cell_type": "code",
   "execution_count": 35,
   "id": "63967bcf-ddfd-4455-b65f-ac8bcdce9609",
   "metadata": {},
   "outputs": [
    {
     "name": "stderr",
     "output_type": "stream",
     "text": [
      "                                                                                \r"
     ]
    }
   ],
   "source": [
    "quote = spark.read.csv(\"data/GDAXI.INDX.csv\", header=True, inferSchema=True).select([\"Date\", \"Close\"])\n",
    "quote.writeTo(\"demo.demo.quote\").append()"
   ]
  },
  {
   "cell_type": "code",
   "execution_count": 36,
   "id": "d6f4f610-3c12-48ae-8c16-39580fa4fdc3",
   "metadata": {},
   "outputs": [
    {
     "data": {
      "text/html": [
       "<table>\n",
       "    <thead>\n",
       "        <tr>\n",
       "        </tr>\n",
       "    </thead>\n",
       "    <tbody>\n",
       "    </tbody>\n",
       "</table>"
      ],
      "text/plain": [
       "++\n",
       "||\n",
       "++\n",
       "++"
      ]
     },
     "execution_count": 36,
     "metadata": {},
     "output_type": "execute_result"
    }
   ],
   "source": [
    "%%sql\n",
    "-- Insert from temp view\n",
    "INSERT INTO demo.demo.people SELECT * FROM tmp_people"
   ]
  },
  {
   "cell_type": "markdown",
   "id": "7c2c6dd8-67fc-4ab4-a759-713f44e65e84",
   "metadata": {},
   "source": [
    "## Query Data"
   ]
  },
  {
   "cell_type": "code",
   "execution_count": 40,
   "id": "d98c682b-d241-4a29-84b2-66e8b62b6102",
   "metadata": {},
   "outputs": [
    {
     "name": "stderr",
     "output_type": "stream",
     "text": [
      "                                                                                \r"
     ]
    },
    {
     "data": {
      "text/html": [
       "<table>\n",
       "    <thead>\n",
       "        <tr>\n",
       "            <th>name</th>\n",
       "            <th>age</th>\n",
       "        </tr>\n",
       "    </thead>\n",
       "    <tbody>\n",
       "        <tr>\n",
       "            <td>John</td>\n",
       "            <td>28</td>\n",
       "        </tr>\n",
       "        <tr>\n",
       "            <td>Alice</td>\n",
       "            <td>35</td>\n",
       "        </tr>\n",
       "        <tr>\n",
       "            <td>Bob</td>\n",
       "            <td>42</td>\n",
       "        </tr>\n",
       "    </tbody>\n",
       "</table>"
      ],
      "text/plain": [
       "+-------+-----+\n",
       "|  name | age |\n",
       "+-------+-----+\n",
       "|  John |  28 |\n",
       "| Alice |  35 |\n",
       "|   Bob |  42 |\n",
       "+-------+-----+"
      ]
     },
     "execution_count": 40,
     "metadata": {},
     "output_type": "execute_result"
    }
   ],
   "source": [
    "%%sql\n",
    "SELECT * FROM demo.demo.people;"
   ]
  },
  {
   "cell_type": "code",
   "execution_count": 39,
   "id": "aba5f751-178d-411f-aa1f-bf898e77ed90",
   "metadata": {
    "scrolled": true
   },
   "outputs": [
    {
     "name": "stderr",
     "output_type": "stream",
     "text": [
      "                                                                                \r"
     ]
    },
    {
     "data": {
      "text/html": [
       "<table>\n",
       "    <thead>\n",
       "        <tr>\n",
       "            <th>date</th>\n",
       "            <th>Close</th>\n",
       "        </tr>\n",
       "    </thead>\n",
       "    <tbody>\n",
       "        <tr>\n",
       "            <td>2010-01-04</td>\n",
       "            <td>6048.2998046875</td>\n",
       "        </tr>\n",
       "        <tr>\n",
       "            <td>2010-01-05</td>\n",
       "            <td>6031.85986328125</td>\n",
       "        </tr>\n",
       "        <tr>\n",
       "            <td>2010-01-06</td>\n",
       "            <td>6034.330078125</td>\n",
       "        </tr>\n",
       "        <tr>\n",
       "            <td>2010-01-07</td>\n",
       "            <td>6019.35986328125</td>\n",
       "        </tr>\n",
       "        <tr>\n",
       "            <td>2010-01-08</td>\n",
       "            <td>6037.60986328125</td>\n",
       "        </tr>\n",
       "        <tr>\n",
       "            <td>2010-01-11</td>\n",
       "            <td>6040.5</td>\n",
       "        </tr>\n",
       "        <tr>\n",
       "            <td>2010-01-12</td>\n",
       "            <td>5943.0</td>\n",
       "        </tr>\n",
       "        <tr>\n",
       "            <td>2010-01-13</td>\n",
       "            <td>5963.14013671875</td>\n",
       "        </tr>\n",
       "        <tr>\n",
       "            <td>2010-01-14</td>\n",
       "            <td>5988.8798828125</td>\n",
       "        </tr>\n",
       "        <tr>\n",
       "            <td>2010-01-15</td>\n",
       "            <td>5875.97021484375</td>\n",
       "        </tr>\n",
       "        <tr>\n",
       "            <td>2010-01-18</td>\n",
       "            <td>5918.5498046875</td>\n",
       "        </tr>\n",
       "        <tr>\n",
       "            <td>2010-01-19</td>\n",
       "            <td>5976.47998046875</td>\n",
       "        </tr>\n",
       "        <tr>\n",
       "            <td>2010-01-20</td>\n",
       "            <td>5851.52978515625</td>\n",
       "        </tr>\n",
       "        <tr>\n",
       "            <td>2010-01-21</td>\n",
       "            <td>5746.97021484375</td>\n",
       "        </tr>\n",
       "        <tr>\n",
       "            <td>2010-01-22</td>\n",
       "            <td>5695.31982421875</td>\n",
       "        </tr>\n",
       "        <tr>\n",
       "            <td>2010-01-25</td>\n",
       "            <td>5631.3701171875</td>\n",
       "        </tr>\n",
       "        <tr>\n",
       "            <td>2010-01-26</td>\n",
       "            <td>5668.93017578125</td>\n",
       "        </tr>\n",
       "        <tr>\n",
       "            <td>2010-01-27</td>\n",
       "            <td>5643.2001953125</td>\n",
       "        </tr>\n",
       "        <tr>\n",
       "            <td>2010-01-28</td>\n",
       "            <td>5540.330078125</td>\n",
       "        </tr>\n",
       "        <tr>\n",
       "            <td>2010-01-29</td>\n",
       "            <td>5608.7900390625</td>\n",
       "        </tr>\n",
       "        <tr>\n",
       "            <td>2010-02-01</td>\n",
       "            <td>5654.47998046875</td>\n",
       "        </tr>\n",
       "        <tr>\n",
       "            <td>2010-02-02</td>\n",
       "            <td>5709.66015625</td>\n",
       "        </tr>\n",
       "        <tr>\n",
       "            <td>2010-02-03</td>\n",
       "            <td>5672.08984375</td>\n",
       "        </tr>\n",
       "        <tr>\n",
       "            <td>2010-02-04</td>\n",
       "            <td>5533.240234375</td>\n",
       "        </tr>\n",
       "        <tr>\n",
       "            <td>2010-02-05</td>\n",
       "            <td>5434.33984375</td>\n",
       "        </tr>\n",
       "        <tr>\n",
       "            <td>2010-02-08</td>\n",
       "            <td>5484.85009765625</td>\n",
       "        </tr>\n",
       "        <tr>\n",
       "            <td>2010-02-09</td>\n",
       "            <td>5498.259765625</td>\n",
       "        </tr>\n",
       "        <tr>\n",
       "            <td>2010-02-10</td>\n",
       "            <td>5536.3701171875</td>\n",
       "        </tr>\n",
       "        <tr>\n",
       "            <td>2010-02-11</td>\n",
       "            <td>5503.93017578125</td>\n",
       "        </tr>\n",
       "        <tr>\n",
       "            <td>2010-02-12</td>\n",
       "            <td>5500.39013671875</td>\n",
       "        </tr>\n",
       "        <tr>\n",
       "            <td>2010-02-15</td>\n",
       "            <td>5511.10009765625</td>\n",
       "        </tr>\n",
       "        <tr>\n",
       "            <td>2010-02-16</td>\n",
       "            <td>5592.1201171875</td>\n",
       "        </tr>\n",
       "        <tr>\n",
       "            <td>2010-02-17</td>\n",
       "            <td>5648.33984375</td>\n",
       "        </tr>\n",
       "        <tr>\n",
       "            <td>2010-02-18</td>\n",
       "            <td>5680.41015625</td>\n",
       "        </tr>\n",
       "        <tr>\n",
       "            <td>2010-02-19</td>\n",
       "            <td>5722.0498046875</td>\n",
       "        </tr>\n",
       "        <tr>\n",
       "            <td>2010-02-22</td>\n",
       "            <td>5688.43994140625</td>\n",
       "        </tr>\n",
       "        <tr>\n",
       "            <td>2010-02-23</td>\n",
       "            <td>5604.06982421875</td>\n",
       "        </tr>\n",
       "        <tr>\n",
       "            <td>2010-02-24</td>\n",
       "            <td>5615.509765625</td>\n",
       "        </tr>\n",
       "        <tr>\n",
       "            <td>2010-02-25</td>\n",
       "            <td>5532.330078125</td>\n",
       "        </tr>\n",
       "        <tr>\n",
       "            <td>2010-02-26</td>\n",
       "            <td>5598.4599609375</td>\n",
       "        </tr>\n",
       "        <tr>\n",
       "            <td>2010-03-01</td>\n",
       "            <td>5713.509765625</td>\n",
       "        </tr>\n",
       "        <tr>\n",
       "            <td>2010-03-02</td>\n",
       "            <td>5776.56005859375</td>\n",
       "        </tr>\n",
       "        <tr>\n",
       "            <td>2010-03-03</td>\n",
       "            <td>5817.8798828125</td>\n",
       "        </tr>\n",
       "        <tr>\n",
       "            <td>2010-03-04</td>\n",
       "            <td>5795.31982421875</td>\n",
       "        </tr>\n",
       "        <tr>\n",
       "            <td>2010-03-05</td>\n",
       "            <td>5877.35986328125</td>\n",
       "        </tr>\n",
       "        <tr>\n",
       "            <td>2010-03-08</td>\n",
       "            <td>5875.91015625</td>\n",
       "        </tr>\n",
       "        <tr>\n",
       "            <td>2010-03-09</td>\n",
       "            <td>5885.89013671875</td>\n",
       "        </tr>\n",
       "        <tr>\n",
       "            <td>2010-03-10</td>\n",
       "            <td>5936.72021484375</td>\n",
       "        </tr>\n",
       "        <tr>\n",
       "            <td>2010-03-11</td>\n",
       "            <td>5928.6298828125</td>\n",
       "        </tr>\n",
       "        <tr>\n",
       "            <td>2010-03-12</td>\n",
       "            <td>5945.10986328125</td>\n",
       "        </tr>\n",
       "        <tr>\n",
       "            <td>2010-03-15</td>\n",
       "            <td>5903.56005859375</td>\n",
       "        </tr>\n",
       "        <tr>\n",
       "            <td>2010-03-16</td>\n",
       "            <td>5970.990234375</td>\n",
       "        </tr>\n",
       "        <tr>\n",
       "            <td>2010-03-17</td>\n",
       "            <td>6024.27978515625</td>\n",
       "        </tr>\n",
       "        <tr>\n",
       "            <td>2010-03-18</td>\n",
       "            <td>6012.31005859375</td>\n",
       "        </tr>\n",
       "        <tr>\n",
       "            <td>2010-03-19</td>\n",
       "            <td>5982.43017578125</td>\n",
       "        </tr>\n",
       "        <tr>\n",
       "            <td>2010-03-22</td>\n",
       "            <td>5987.5</td>\n",
       "        </tr>\n",
       "        <tr>\n",
       "            <td>2010-03-23</td>\n",
       "            <td>6017.27001953125</td>\n",
       "        </tr>\n",
       "        <tr>\n",
       "            <td>2010-03-24</td>\n",
       "            <td>6039.0</td>\n",
       "        </tr>\n",
       "        <tr>\n",
       "            <td>2010-03-25</td>\n",
       "            <td>6132.9501953125</td>\n",
       "        </tr>\n",
       "        <tr>\n",
       "            <td>2010-03-26</td>\n",
       "            <td>6120.0498046875</td>\n",
       "        </tr>\n",
       "        <tr>\n",
       "            <td>2010-03-29</td>\n",
       "            <td>6156.85009765625</td>\n",
       "        </tr>\n",
       "        <tr>\n",
       "            <td>2010-03-30</td>\n",
       "            <td>6142.4501953125</td>\n",
       "        </tr>\n",
       "        <tr>\n",
       "            <td>2010-03-31</td>\n",
       "            <td>6153.5498046875</td>\n",
       "        </tr>\n",
       "        <tr>\n",
       "            <td>2010-04-01</td>\n",
       "            <td>6235.56005859375</td>\n",
       "        </tr>\n",
       "        <tr>\n",
       "            <td>2010-04-06</td>\n",
       "            <td>6252.2099609375</td>\n",
       "        </tr>\n",
       "        <tr>\n",
       "            <td>2010-04-07</td>\n",
       "            <td>6222.41015625</td>\n",
       "        </tr>\n",
       "        <tr>\n",
       "            <td>2010-04-08</td>\n",
       "            <td>6171.830078125</td>\n",
       "        </tr>\n",
       "        <tr>\n",
       "            <td>2010-04-09</td>\n",
       "            <td>6249.7001953125</td>\n",
       "        </tr>\n",
       "        <tr>\n",
       "            <td>2010-04-12</td>\n",
       "            <td>6250.68994140625</td>\n",
       "        </tr>\n",
       "        <tr>\n",
       "            <td>2010-04-13</td>\n",
       "            <td>6230.830078125</td>\n",
       "        </tr>\n",
       "        <tr>\n",
       "            <td>2010-04-14</td>\n",
       "            <td>6278.39990234375</td>\n",
       "        </tr>\n",
       "        <tr>\n",
       "            <td>2010-04-15</td>\n",
       "            <td>6291.4501953125</td>\n",
       "        </tr>\n",
       "        <tr>\n",
       "            <td>2010-04-16</td>\n",
       "            <td>6180.89990234375</td>\n",
       "        </tr>\n",
       "        <tr>\n",
       "            <td>2010-04-19</td>\n",
       "            <td>6162.43994140625</td>\n",
       "        </tr>\n",
       "        <tr>\n",
       "            <td>2010-04-20</td>\n",
       "            <td>6264.22998046875</td>\n",
       "        </tr>\n",
       "        <tr>\n",
       "            <td>2010-04-21</td>\n",
       "            <td>6230.3798828125</td>\n",
       "        </tr>\n",
       "        <tr>\n",
       "            <td>2010-04-22</td>\n",
       "            <td>6168.72021484375</td>\n",
       "        </tr>\n",
       "        <tr>\n",
       "            <td>2010-04-23</td>\n",
       "            <td>6259.52978515625</td>\n",
       "        </tr>\n",
       "        <tr>\n",
       "            <td>2010-04-26</td>\n",
       "            <td>6332.10009765625</td>\n",
       "        </tr>\n",
       "        <tr>\n",
       "            <td>2010-04-27</td>\n",
       "            <td>6159.509765625</td>\n",
       "        </tr>\n",
       "        <tr>\n",
       "            <td>2010-04-28</td>\n",
       "            <td>6084.33984375</td>\n",
       "        </tr>\n",
       "        <tr>\n",
       "            <td>2010-04-29</td>\n",
       "            <td>6144.91015625</td>\n",
       "        </tr>\n",
       "        <tr>\n",
       "            <td>2010-04-30</td>\n",
       "            <td>6135.7001953125</td>\n",
       "        </tr>\n",
       "        <tr>\n",
       "            <td>2010-05-03</td>\n",
       "            <td>6166.919921875</td>\n",
       "        </tr>\n",
       "        <tr>\n",
       "            <td>2010-05-04</td>\n",
       "            <td>6006.85986328125</td>\n",
       "        </tr>\n",
       "        <tr>\n",
       "            <td>2010-05-05</td>\n",
       "            <td>5958.4501953125</td>\n",
       "        </tr>\n",
       "        <tr>\n",
       "            <td>2010-05-06</td>\n",
       "            <td>5908.259765625</td>\n",
       "        </tr>\n",
       "        <tr>\n",
       "            <td>2010-05-07</td>\n",
       "            <td>5715.08984375</td>\n",
       "        </tr>\n",
       "        <tr>\n",
       "            <td>2010-05-10</td>\n",
       "            <td>6017.91015625</td>\n",
       "        </tr>\n",
       "        <tr>\n",
       "            <td>2010-05-11</td>\n",
       "            <td>6037.7099609375</td>\n",
       "        </tr>\n",
       "        <tr>\n",
       "            <td>2010-05-12</td>\n",
       "            <td>6183.490234375</td>\n",
       "        </tr>\n",
       "        <tr>\n",
       "            <td>2010-05-13</td>\n",
       "            <td>6251.97021484375</td>\n",
       "        </tr>\n",
       "        <tr>\n",
       "            <td>2010-05-14</td>\n",
       "            <td>6056.7099609375</td>\n",
       "        </tr>\n",
       "        <tr>\n",
       "            <td>2010-05-17</td>\n",
       "            <td>6066.919921875</td>\n",
       "        </tr>\n",
       "        <tr>\n",
       "            <td>2010-05-18</td>\n",
       "            <td>6155.93017578125</td>\n",
       "        </tr>\n",
       "        <tr>\n",
       "            <td>2010-05-19</td>\n",
       "            <td>5988.669921875</td>\n",
       "        </tr>\n",
       "        <tr>\n",
       "            <td>2010-05-20</td>\n",
       "            <td>5867.8798828125</td>\n",
       "        </tr>\n",
       "        <tr>\n",
       "            <td>2010-05-21</td>\n",
       "            <td>5829.25</td>\n",
       "        </tr>\n",
       "        <tr>\n",
       "            <td>2010-05-24</td>\n",
       "            <td>5805.68017578125</td>\n",
       "        </tr>\n",
       "        <tr>\n",
       "            <td>2010-05-25</td>\n",
       "            <td>5670.0400390625</td>\n",
       "        </tr>\n",
       "    </tbody>\n",
       "</table>"
      ],
      "text/plain": [
       "+------------+------------------+\n",
       "|       date |            Close |\n",
       "+------------+------------------+\n",
       "| 2010-01-04 |  6048.2998046875 |\n",
       "| 2010-01-05 | 6031.85986328125 |\n",
       "| 2010-01-06 |   6034.330078125 |\n",
       "| 2010-01-07 | 6019.35986328125 |\n",
       "| 2010-01-08 | 6037.60986328125 |\n",
       "| 2010-01-11 |           6040.5 |\n",
       "| 2010-01-12 |           5943.0 |\n",
       "| 2010-01-13 | 5963.14013671875 |\n",
       "| 2010-01-14 |  5988.8798828125 |\n",
       "| 2010-01-15 | 5875.97021484375 |\n",
       "| 2010-01-18 |  5918.5498046875 |\n",
       "| 2010-01-19 | 5976.47998046875 |\n",
       "| 2010-01-20 | 5851.52978515625 |\n",
       "| 2010-01-21 | 5746.97021484375 |\n",
       "| 2010-01-22 | 5695.31982421875 |\n",
       "| 2010-01-25 |  5631.3701171875 |\n",
       "| 2010-01-26 | 5668.93017578125 |\n",
       "| 2010-01-27 |  5643.2001953125 |\n",
       "| 2010-01-28 |   5540.330078125 |\n",
       "| 2010-01-29 |  5608.7900390625 |\n",
       "| 2010-02-01 | 5654.47998046875 |\n",
       "| 2010-02-02 |    5709.66015625 |\n",
       "| 2010-02-03 |    5672.08984375 |\n",
       "| 2010-02-04 |   5533.240234375 |\n",
       "| 2010-02-05 |    5434.33984375 |\n",
       "| 2010-02-08 | 5484.85009765625 |\n",
       "| 2010-02-09 |   5498.259765625 |\n",
       "| 2010-02-10 |  5536.3701171875 |\n",
       "| 2010-02-11 | 5503.93017578125 |\n",
       "| 2010-02-12 | 5500.39013671875 |\n",
       "| 2010-02-15 | 5511.10009765625 |\n",
       "| 2010-02-16 |  5592.1201171875 |\n",
       "| 2010-02-17 |    5648.33984375 |\n",
       "| 2010-02-18 |    5680.41015625 |\n",
       "| 2010-02-19 |  5722.0498046875 |\n",
       "| 2010-02-22 | 5688.43994140625 |\n",
       "| 2010-02-23 | 5604.06982421875 |\n",
       "| 2010-02-24 |   5615.509765625 |\n",
       "| 2010-02-25 |   5532.330078125 |\n",
       "| 2010-02-26 |  5598.4599609375 |\n",
       "| 2010-03-01 |   5713.509765625 |\n",
       "| 2010-03-02 | 5776.56005859375 |\n",
       "| 2010-03-03 |  5817.8798828125 |\n",
       "| 2010-03-04 | 5795.31982421875 |\n",
       "| 2010-03-05 | 5877.35986328125 |\n",
       "| 2010-03-08 |    5875.91015625 |\n",
       "| 2010-03-09 | 5885.89013671875 |\n",
       "| 2010-03-10 | 5936.72021484375 |\n",
       "| 2010-03-11 |  5928.6298828125 |\n",
       "| 2010-03-12 | 5945.10986328125 |\n",
       "| 2010-03-15 | 5903.56005859375 |\n",
       "| 2010-03-16 |   5970.990234375 |\n",
       "| 2010-03-17 | 6024.27978515625 |\n",
       "| 2010-03-18 | 6012.31005859375 |\n",
       "| 2010-03-19 | 5982.43017578125 |\n",
       "| 2010-03-22 |           5987.5 |\n",
       "| 2010-03-23 | 6017.27001953125 |\n",
       "| 2010-03-24 |           6039.0 |\n",
       "| 2010-03-25 |  6132.9501953125 |\n",
       "| 2010-03-26 |  6120.0498046875 |\n",
       "| 2010-03-29 | 6156.85009765625 |\n",
       "| 2010-03-30 |  6142.4501953125 |\n",
       "| 2010-03-31 |  6153.5498046875 |\n",
       "| 2010-04-01 | 6235.56005859375 |\n",
       "| 2010-04-06 |  6252.2099609375 |\n",
       "| 2010-04-07 |    6222.41015625 |\n",
       "| 2010-04-08 |   6171.830078125 |\n",
       "| 2010-04-09 |  6249.7001953125 |\n",
       "| 2010-04-12 | 6250.68994140625 |\n",
       "| 2010-04-13 |   6230.830078125 |\n",
       "| 2010-04-14 | 6278.39990234375 |\n",
       "| 2010-04-15 |  6291.4501953125 |\n",
       "| 2010-04-16 | 6180.89990234375 |\n",
       "| 2010-04-19 | 6162.43994140625 |\n",
       "| 2010-04-20 | 6264.22998046875 |\n",
       "| 2010-04-21 |  6230.3798828125 |\n",
       "| 2010-04-22 | 6168.72021484375 |\n",
       "| 2010-04-23 | 6259.52978515625 |\n",
       "| 2010-04-26 | 6332.10009765625 |\n",
       "| 2010-04-27 |   6159.509765625 |\n",
       "| 2010-04-28 |    6084.33984375 |\n",
       "| 2010-04-29 |    6144.91015625 |\n",
       "| 2010-04-30 |  6135.7001953125 |\n",
       "| 2010-05-03 |   6166.919921875 |\n",
       "| 2010-05-04 | 6006.85986328125 |\n",
       "| 2010-05-05 |  5958.4501953125 |\n",
       "| 2010-05-06 |   5908.259765625 |\n",
       "| 2010-05-07 |    5715.08984375 |\n",
       "| 2010-05-10 |    6017.91015625 |\n",
       "| 2010-05-11 |  6037.7099609375 |\n",
       "| 2010-05-12 |   6183.490234375 |\n",
       "| 2010-05-13 | 6251.97021484375 |\n",
       "| 2010-05-14 |  6056.7099609375 |\n",
       "| 2010-05-17 |   6066.919921875 |\n",
       "| 2010-05-18 | 6155.93017578125 |\n",
       "| 2010-05-19 |   5988.669921875 |\n",
       "| 2010-05-20 |  5867.8798828125 |\n",
       "| 2010-05-21 |          5829.25 |\n",
       "| 2010-05-24 | 5805.68017578125 |\n",
       "| 2010-05-25 |  5670.0400390625 |\n",
       "+------------+------------------+"
      ]
     },
     "execution_count": 39,
     "metadata": {},
     "output_type": "execute_result"
    }
   ],
   "source": [
    "%%sql\n",
    "SELECT * FROM demo.demo.quote;"
   ]
  },
  {
   "cell_type": "markdown",
   "id": "37338dad-6e1a-4df4-8e0c-db1d04c7e2da",
   "metadata": {},
   "source": [
    "### Stop Spark"
   ]
  },
  {
   "cell_type": "code",
   "execution_count": 41,
   "id": "f001a1c6-588f-4026-84b0-247564cea3a9",
   "metadata": {},
   "outputs": [],
   "source": [
    "spark.stop()"
   ]
  },
  {
   "cell_type": "markdown",
   "id": "96ae37e4-80e2-4874-963c-899dd2001943",
   "metadata": {},
   "source": [
    "# PyIceberg with Glue"
   ]
  },
  {
   "cell_type": "code",
   "execution_count": 48,
   "id": "dfb8e84e-ddc3-4ef8-b79d-0fd9ec1de5a0",
   "metadata": {},
   "outputs": [],
   "source": [
    "import os\n",
    "\n",
    "from pyiceberg.catalog import load_catalog\n",
    "\n",
    "\n",
    "AWS_ACCESS_KEY_ID = os.getenv(\"AWS_ACCESS_KEY_ID\") or \"\"\n",
    "AWS_SECRET_ACCESS_KEY = os.getenv(\"AWS_SECRET_ACCESS_KEY\") or \"\"\n",
    "\n",
    "catalog = load_catalog(\n",
    "    \"glue\",\n",
    "    **{\n",
    "        \"type\": \"glue\",\n",
    "        \"region_name\": \"eu-central-1\",\n",
    "        \"s3.access-key-id\": AWS_ACCESS_KEY_ID,\n",
    "        \"s3.secret-access-key\": AWS_SECRET_ACCESS_KEY,\n",
    "    },\n",
    ")"
   ]
  },
  {
   "cell_type": "code",
   "execution_count": 49,
   "id": "bc689c8d-d6fb-4556-803f-281b304639c1",
   "metadata": {},
   "outputs": [
    {
     "data": {
      "text/plain": [
       "[('demo', 'people'), ('demo', 'quote')]"
      ]
     },
     "execution_count": 49,
     "metadata": {},
     "output_type": "execute_result"
    }
   ],
   "source": [
    "catalog.list_tables('demo')"
   ]
  },
  {
   "cell_type": "code",
   "execution_count": 50,
   "id": "c72c1b2e-30ca-4fd6-9c96-f682ca4740bc",
   "metadata": {},
   "outputs": [
    {
     "name": "stderr",
     "output_type": "stream",
     "text": [
      "WARNING:pyiceberg.io:Could not initialize FileIO: pyiceberg.io.pyarrow.PyArrowFileIO\n"
     ]
    },
    {
     "ename": "ModuleNotFoundError",
     "evalue": "No module named 's3fs'",
     "output_type": "error",
     "traceback": [
      "\u001b[0;31m---------------------------------------------------------------------------\u001b[0m",
      "\u001b[0;31mModuleNotFoundError\u001b[0m                       Traceback (most recent call last)",
      "Cell \u001b[0;32mIn[50], line 1\u001b[0m\n\u001b[0;32m----> 1\u001b[0m \u001b[43mcatalog\u001b[49m\u001b[38;5;241;43m.\u001b[39;49m\u001b[43mload_table\u001b[49m\u001b[43m(\u001b[49m\u001b[38;5;124;43m\"\u001b[39;49m\u001b[38;5;124;43mdemo.quote\u001b[39;49m\u001b[38;5;124;43m\"\u001b[39;49m\u001b[43m)\u001b[49m\u001b[38;5;241m.\u001b[39mschema()\n",
      "File \u001b[0;32m/usr/local/lib/python3.11/site-packages/pyiceberg/catalog/glue.py:278\u001b[0m, in \u001b[0;36mGlueCatalog.load_table\u001b[0;34m(self, identifier)\u001b[0m\n\u001b[1;32m    275\u001b[0m \u001b[38;5;28;01mexcept\u001b[39;00m \u001b[38;5;28mself\u001b[39m\u001b[38;5;241m.\u001b[39mglue\u001b[38;5;241m.\u001b[39mexceptions\u001b[38;5;241m.\u001b[39mEntityNotFoundException \u001b[38;5;28;01mas\u001b[39;00m e:\n\u001b[1;32m    276\u001b[0m     \u001b[38;5;28;01mraise\u001b[39;00m NoSuchTableError(\u001b[38;5;124mf\u001b[39m\u001b[38;5;124m\"\u001b[39m\u001b[38;5;124mTable does not exist: \u001b[39m\u001b[38;5;132;01m{\u001b[39;00mdatabase_name\u001b[38;5;132;01m}\u001b[39;00m\u001b[38;5;124m.\u001b[39m\u001b[38;5;132;01m{\u001b[39;00mtable_name\u001b[38;5;132;01m}\u001b[39;00m\u001b[38;5;124m\"\u001b[39m) \u001b[38;5;28;01mfrom\u001b[39;00m \u001b[38;5;21;01me\u001b[39;00m\n\u001b[0;32m--> 278\u001b[0m \u001b[38;5;28;01mreturn\u001b[39;00m \u001b[38;5;28;43mself\u001b[39;49m\u001b[38;5;241;43m.\u001b[39;49m\u001b[43m_convert_glue_to_iceberg\u001b[49m\u001b[43m(\u001b[49m\u001b[43mload_table_response\u001b[49m\u001b[38;5;241;43m.\u001b[39;49m\u001b[43mget\u001b[49m\u001b[43m(\u001b[49m\u001b[43mPROP_GLUE_TABLE\u001b[49m\u001b[43m,\u001b[49m\u001b[43m \u001b[49m\u001b[43m{\u001b[49m\u001b[43m}\u001b[49m\u001b[43m)\u001b[49m\u001b[43m)\u001b[49m\n",
      "File \u001b[0;32m/usr/local/lib/python3.11/site-packages/pyiceberg/catalog/glue.py:166\u001b[0m, in \u001b[0;36mGlueCatalog._convert_glue_to_iceberg\u001b[0;34m(self, glue_table)\u001b[0m\n\u001b[1;32m    163\u001b[0m metadata_location \u001b[38;5;241m=\u001b[39m properties[METADATA_LOCATION]\n\u001b[1;32m    165\u001b[0m io \u001b[38;5;241m=\u001b[39m load_file_io(properties\u001b[38;5;241m=\u001b[39m\u001b[38;5;28mself\u001b[39m\u001b[38;5;241m.\u001b[39mproperties, location\u001b[38;5;241m=\u001b[39mmetadata_location)\n\u001b[0;32m--> 166\u001b[0m file \u001b[38;5;241m=\u001b[39m \u001b[43mio\u001b[49m\u001b[38;5;241;43m.\u001b[39;49m\u001b[43mnew_input\u001b[49m\u001b[43m(\u001b[49m\u001b[43mmetadata_location\u001b[49m\u001b[43m)\u001b[49m\n\u001b[1;32m    167\u001b[0m metadata \u001b[38;5;241m=\u001b[39m FromInputFile\u001b[38;5;241m.\u001b[39mtable_metadata(file)\n\u001b[1;32m    168\u001b[0m \u001b[38;5;28;01mreturn\u001b[39;00m Table(\n\u001b[1;32m    169\u001b[0m     identifier\u001b[38;5;241m=\u001b[39m(\u001b[38;5;28mself\u001b[39m\u001b[38;5;241m.\u001b[39mname, glue_table[PROP_GLUE_TABLE_DATABASE_NAME], glue_table[PROP_GLUE_TABLE_NAME]),\n\u001b[1;32m    170\u001b[0m     metadata\u001b[38;5;241m=\u001b[39mmetadata,\n\u001b[0;32m   (...)\u001b[0m\n\u001b[1;32m    173\u001b[0m     catalog\u001b[38;5;241m=\u001b[39m\u001b[38;5;28mself\u001b[39m,\n\u001b[1;32m    174\u001b[0m )\n",
      "File \u001b[0;32m/usr/local/lib/python3.11/site-packages/pyiceberg/io/fsspec.py:297\u001b[0m, in \u001b[0;36mFsspecFileIO.new_input\u001b[0;34m(self, location)\u001b[0m\n\u001b[1;32m    288\u001b[0m \u001b[38;5;250m\u001b[39m\u001b[38;5;124;03m\"\"\"Get an FsspecInputFile instance to read bytes from the file at the given location.\u001b[39;00m\n\u001b[1;32m    289\u001b[0m \n\u001b[1;32m    290\u001b[0m \u001b[38;5;124;03mArgs:\u001b[39;00m\n\u001b[0;32m   (...)\u001b[0m\n\u001b[1;32m    294\u001b[0m \u001b[38;5;124;03m    FsspecInputFile: An FsspecInputFile instance for the given location.\u001b[39;00m\n\u001b[1;32m    295\u001b[0m \u001b[38;5;124;03m\"\"\"\u001b[39;00m\n\u001b[1;32m    296\u001b[0m uri \u001b[38;5;241m=\u001b[39m urlparse(location)\n\u001b[0;32m--> 297\u001b[0m fs \u001b[38;5;241m=\u001b[39m \u001b[38;5;28;43mself\u001b[39;49m\u001b[38;5;241;43m.\u001b[39;49m\u001b[43mget_fs\u001b[49m\u001b[43m(\u001b[49m\u001b[43muri\u001b[49m\u001b[38;5;241;43m.\u001b[39;49m\u001b[43mscheme\u001b[49m\u001b[43m)\u001b[49m\n\u001b[1;32m    298\u001b[0m \u001b[38;5;28;01mreturn\u001b[39;00m FsspecInputFile(location\u001b[38;5;241m=\u001b[39mlocation, fs\u001b[38;5;241m=\u001b[39mfs)\n",
      "File \u001b[0;32m/usr/local/lib/python3.11/site-packages/pyiceberg/io/fsspec.py:334\u001b[0m, in \u001b[0;36mFsspecFileIO._get_fs\u001b[0;34m(self, scheme)\u001b[0m\n\u001b[1;32m    332\u001b[0m \u001b[38;5;28;01mif\u001b[39;00m scheme \u001b[38;5;129;01mnot\u001b[39;00m \u001b[38;5;129;01min\u001b[39;00m \u001b[38;5;28mself\u001b[39m\u001b[38;5;241m.\u001b[39m_scheme_to_fs:\n\u001b[1;32m    333\u001b[0m     \u001b[38;5;28;01mraise\u001b[39;00m \u001b[38;5;167;01mValueError\u001b[39;00m(\u001b[38;5;124mf\u001b[39m\u001b[38;5;124m\"\u001b[39m\u001b[38;5;124mNo registered filesystem for scheme: \u001b[39m\u001b[38;5;132;01m{\u001b[39;00mscheme\u001b[38;5;132;01m}\u001b[39;00m\u001b[38;5;124m\"\u001b[39m)\n\u001b[0;32m--> 334\u001b[0m \u001b[38;5;28;01mreturn\u001b[39;00m \u001b[38;5;28;43mself\u001b[39;49m\u001b[38;5;241;43m.\u001b[39;49m\u001b[43m_scheme_to_fs\u001b[49m\u001b[43m[\u001b[49m\u001b[43mscheme\u001b[49m\u001b[43m]\u001b[49m\u001b[43m(\u001b[49m\u001b[38;5;28;43mself\u001b[39;49m\u001b[38;5;241;43m.\u001b[39;49m\u001b[43mproperties\u001b[49m\u001b[43m)\u001b[49m\n",
      "File \u001b[0;32m/usr/local/lib/python3.11/site-packages/pyiceberg/io/fsspec.py:104\u001b[0m, in \u001b[0;36m_s3\u001b[0;34m(properties)\u001b[0m\n\u001b[1;32m    103\u001b[0m \u001b[38;5;28;01mdef\u001b[39;00m \u001b[38;5;21m_s3\u001b[39m(properties: Properties) \u001b[38;5;241m-\u001b[39m\u001b[38;5;241m>\u001b[39m AbstractFileSystem:\n\u001b[0;32m--> 104\u001b[0m     \u001b[38;5;28;01mfrom\u001b[39;00m \u001b[38;5;21;01ms3fs\u001b[39;00m \u001b[38;5;28;01mimport\u001b[39;00m S3FileSystem\n\u001b[1;32m    106\u001b[0m     client_kwargs \u001b[38;5;241m=\u001b[39m {\n\u001b[1;32m    107\u001b[0m         \u001b[38;5;124m\"\u001b[39m\u001b[38;5;124mendpoint_url\u001b[39m\u001b[38;5;124m\"\u001b[39m: properties\u001b[38;5;241m.\u001b[39mget(S3_ENDPOINT),\n\u001b[1;32m    108\u001b[0m         \u001b[38;5;124m\"\u001b[39m\u001b[38;5;124maws_access_key_id\u001b[39m\u001b[38;5;124m\"\u001b[39m: properties\u001b[38;5;241m.\u001b[39mget(S3_ACCESS_KEY_ID),\n\u001b[0;32m   (...)\u001b[0m\n\u001b[1;32m    111\u001b[0m         \u001b[38;5;124m\"\u001b[39m\u001b[38;5;124mregion_name\u001b[39m\u001b[38;5;124m\"\u001b[39m: properties\u001b[38;5;241m.\u001b[39mget(S3_REGION),\n\u001b[1;32m    112\u001b[0m     }\n\u001b[1;32m    113\u001b[0m     config_kwargs \u001b[38;5;241m=\u001b[39m {}\n",
      "\u001b[0;31mModuleNotFoundError\u001b[0m: No module named 's3fs'"
     ]
    }
   ],
   "source": [
    "catalog.load_table(\"demo.quote\").schema()"
   ]
  }
 ],
 "metadata": {
  "kernelspec": {
   "display_name": "Python 3 (ipykernel)",
   "language": "python",
   "name": "python3"
  },
  "language_info": {
   "codemirror_mode": {
    "name": "ipython",
    "version": 3
   },
   "file_extension": ".py",
   "mimetype": "text/x-python",
   "name": "python",
   "nbconvert_exporter": "python",
   "pygments_lexer": "ipython3",
   "version": "3.11.7"
  }
 },
 "nbformat": 4,
 "nbformat_minor": 5
}
