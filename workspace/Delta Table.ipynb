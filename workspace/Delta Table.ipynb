{
 "cells": [
  {
   "cell_type": "code",
   "execution_count": null,
   "id": "71ea0a1d-a3ff-47d9-898b-8cf362c0f982",
   "metadata": {},
   "outputs": [],
   "source": [
    "import pyspark\n",
    "from delta import *\n",
    "\n",
    "builder = (\n",
    "    pyspark.sql.SparkSession.builder.appName(\"MyApp\")\n",
    "    .config(\"spark.master\", \"local[*]\")\n",
    "    .config(\"spark.sql.extensions\", \"io.delta.sql.DeltaSparkSessionExtension\")\n",
    "    .config(\"spark.sql.catalog.spark_catalog\", \"org.apache.spark.sql.delta.catalog.DeltaCatalog\")\n",
    ")\n",
    "\n",
    "spark = configure_spark_with_delta_pip(builder).getOrCreate()  # type: ignore\n",
    "\n",
    "data = [(\"John\", 28), (\"Alice\", 35), (\"Bob\", 42)]\n",
    "df = spark.createDataFrame(data, [\"Name\", \"Age\"])\n",
    "df.show()"
   ]
  },
  {
   "cell_type": "code",
   "execution_count": null,
   "id": "8410f487-4a22-4301-96cd-6f21cf81f0dc",
   "metadata": {},
   "outputs": [],
   "source": [
    "df = spark.read.csv(\"GDAXI.INDX.csv\", header=True)\n",
    "df.show()"
   ]
  },
  {
   "cell_type": "code",
   "execution_count": null,
   "id": "779debce-e426-40e5-9ad5-444e68399488",
   "metadata": {},
   "outputs": [],
   "source": [
    "df.write.format(\"delta\").partitionBy(\"Date\").save(\"./stock_delta\")"
   ]
  },
  {
   "cell_type": "code",
   "execution_count": null,
   "id": "c3c72882-be9c-4861-b01b-cbe4b9554cf9",
   "metadata": {},
   "outputs": [],
   "source": [
    "spark.sql(\"CREATE DATABASE IF NOT EXISTS my_db\")\n",
    "spark.sql(\"USE my_db\")\n",
    "spark.sql(\"CREATE TABLE delta_table (id INT, name STRING) USING delta\")"
   ]
  },
  {
   "cell_type": "code",
   "execution_count": null,
   "id": "d5d275c3-1b0c-45e9-9ea3-1e2f50b3ba34",
   "metadata": {},
   "outputs": [],
   "source": [
    "# spark.sql(\"CREATE TABLE IF NOT EXISTS employee USING DELTA LOCATION 'GDAXI.INDX.csv'\")\n",
    "\n",
    "\n",
    "spark.sql(\n",
    "    \"\"\"\n",
    "CREATE TABLE IF NOT EXISTS aa USING DELTA LOCATION 'GDAXI.INDX.csv';\n",
    "Copy INTO my_db.aa\n",
    "FROM 'GDAXI.INDX.csv'\n",
    "FILEFORMAT = CSV;\n",
    "\n",
    "\"\"\"\n",
    ")"
   ]
  },
  {
   "cell_type": "code",
   "execution_count": null,
   "id": "99e18a70-5ce2-4819-9360-85849c0d83c8",
   "metadata": {},
   "outputs": [],
   "source": [
    "spark.sql(\"COPY INTO employee FROM 'GDAXI.INDX.csv' \")"
   ]
  },
  {
   "cell_type": "code",
   "execution_count": null,
   "id": "9d9d285c-7ab0-44be-bf3f-f05c4503f683",
   "metadata": {},
   "outputs": [],
   "source": [
    "# spark.sql(\"\"\"\n",
    "# DROP TABLE IF EXISTS test;\n",
    "# \"\"\")\n",
    "\n",
    "spark.sql(\"CREATE TABLE studenta (Date DATE, Close FLOAT) USING DELTA;\")\n",
    "#"
   ]
  },
  {
   "cell_type": "code",
   "execution_count": null,
   "id": "4ca99a80-c5cb-43ec-b04e-8251ed34cfd1",
   "metadata": {},
   "outputs": [],
   "source": [
    "df.createOrReplaceTempView(\"test\")\n",
    "\n",
    "spark.sql(\"CREATE TABLE IF NOT EXISTS lettt USING DElta PARTITIONED BY (Date) AS SELECT * FROM test;\")"
   ]
  },
  {
   "cell_type": "code",
   "execution_count": null,
   "id": "186ea2db-b6a9-4b42-ac62-fcbce52bfb58",
   "metadata": {},
   "outputs": [],
   "source": [
    "spark.sql(\"SELECT * FROM hallo\").show()"
   ]
  }
 ],
 "metadata": {
  "kernelspec": {
   "display_name": "Python 3 (ipykernel)",
   "language": "python",
   "name": "python3"
  },
  "language_info": {
   "codemirror_mode": {
    "name": "ipython",
    "version": 3
   },
   "file_extension": ".py",
   "mimetype": "text/x-python",
   "name": "python",
   "nbconvert_exporter": "python",
   "pygments_lexer": "ipython3",
   "version": "3.11.7"
  }
 },
 "nbformat": 4,
 "nbformat_minor": 5
}
